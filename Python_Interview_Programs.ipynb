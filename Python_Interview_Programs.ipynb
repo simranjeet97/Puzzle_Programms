{
 "cells": [
  {
   "cell_type": "code",
   "execution_count": 1,
   "metadata": {},
   "outputs": [],
   "source": [
    "import random"
   ]
  },
  {
   "cell_type": "markdown",
   "metadata": {},
   "source": [
    "Question  - Define the generator function fib_gen, which is capable of yielding values of infinite fibonacci series."
   ]
  },
  {
   "cell_type": "code",
   "execution_count": 2,
   "metadata": {},
   "outputs": [],
   "source": [
    "def fib_gen():\n",
    "    a,b=0,1\n",
    "    while a<4:\n",
    "        yield a\n",
    "        a,b=b,a+b"
   ]
  },
  {
   "cell_type": "code",
   "execution_count": 3,
   "metadata": {},
   "outputs": [
    {
     "name": "stdout",
     "output_type": "stream",
     "text": [
      "0\n",
      "1\n",
      "1\n",
      "2\n"
     ]
    }
   ],
   "source": [
    "fs=fib_gen()\n",
    "print(next(fs))\n",
    "print(next(fs))\n",
    "print(next(fs))\n",
    "print(next(fs))"
   ]
  },
  {
   "cell_type": "markdown",
   "metadata": {},
   "source": [
    "Question 2 - Convert the entire string zenPython into a list of words. Capture the words in the list - words."
   ]
  },
  {
   "cell_type": "code",
   "execution_count": 4,
   "metadata": {},
   "outputs": [],
   "source": [
    "zenPython = '''\n",
    "\n",
    "The Zen of Python, by Tim Peters\n",
    "\n",
    "\n",
    "Beautiful is better than ugly.\n",
    "\n",
    "Explicit is better than implicit.\n",
    "\n",
    "Simple is better than complex.\n",
    "\n",
    "Complex is better than complicated.\n",
    "\n",
    "Flat is better than nested.\n",
    "\n",
    "Sparse is better than dense.\n",
    "\n",
    "Readability counts.\n",
    "\n",
    "Special cases aren't special enough to break the rules.\n",
    "\n",
    "Although practicality beats purity.\n",
    "\n",
    "Errors should never pass silently.\n",
    "\n",
    "Unless explicitly silenced.\n",
    "\n",
    "In the face of ambiguity, refuse the temptation to guess.\n",
    "\n",
    "There should be one-- and preferably only one --obvious way to do it.\n",
    "\n",
    "Although that way may not be obvious at first unless you're Dutch.\n",
    "\n",
    "Now is better than never.\n",
    "\n",
    "Although never is often better than *right* now.\n",
    "\n",
    "If the implementation is hard to explain, it's a bad idea.\n",
    "\n",
    "If the implementation is easy to explain, it may be a good idea.\n",
    "\n",
    "Namespaces are one honking great idea -- let's do more of those!\n",
    "\n",
    "'''"
   ]
  },
  {
   "cell_type": "code",
   "execution_count": 5,
   "metadata": {},
   "outputs": [
    {
     "name": "stdout",
     "output_type": "stream",
     "text": [
      "['\\n\\nThe', 'Zen', 'of', 'Python,', 'by', 'Tim', 'Peters\\n\\n\\nBeautiful', 'is', 'better', 'than', 'ugly.\\n\\nExplicit', 'is', 'better', 'than', 'implicit.\\n\\nSimple', 'is', 'better', 'than', 'complex.\\n\\nComplex', 'is', 'better', 'than', 'complicated.\\n\\nFlat', 'is', 'better', 'than', 'nested.\\n\\nSparse', 'is', 'better', 'than', 'dense.\\n\\nReadability', 'counts.\\n\\nSpecial', 'cases', \"aren't\", 'special', 'enough', 'to', 'break', 'the', 'rules.\\n\\nAlthough', 'practicality', 'beats', 'purity.\\n\\nErrors', 'should', 'never', 'pass', 'silently.\\n\\nUnless', 'explicitly', 'silenced.\\n\\nIn', 'the', 'face', 'of', 'ambiguity,', 'refuse', 'the', 'temptation', 'to', 'guess.\\n\\nThere', 'should', 'be', 'one--', 'and', 'preferably', 'only', 'one', '--obvious', 'way', 'to', 'do', 'it.\\n\\nAlthough', 'that', 'way', 'may', 'not', 'be', 'obvious', 'at', 'first', 'unless', \"you're\", 'Dutch.\\n\\nNow', 'is', 'better', 'than', 'never.\\n\\nAlthough', 'never', 'is', 'often', 'better', 'than', '*right*', 'now.\\n\\nIf', 'the', 'implementation', 'is', 'hard', 'to', 'explain,', \"it's\", 'a', 'bad', 'idea.\\n\\nIf', 'the', 'implementation', 'is', 'easy', 'to', 'explain,', 'it', 'may', 'be', 'a', 'good', 'idea.\\n\\nNamespaces', 'are', 'one', 'honking', 'great', 'idea', '--', \"let's\", 'do', 'more', 'of', 'those!\\n\\n']\n",
      "Length of Words are -  125\n"
     ]
    }
   ],
   "source": [
    "words=zenPython.split(' ')\n",
    "print(words)\n",
    "print(\"Length of Words are - \", len(words))"
   ]
  },
  {
   "cell_type": "markdown",
   "metadata": {},
   "source": [
    "Now, remove the flanking characters (such as , . - * ! and space) from each of the word, present in list words.\n",
    "Store the obtained result again in the list words."
   ]
  },
  {
   "cell_type": "code",
   "execution_count": 6,
   "metadata": {},
   "outputs": [],
   "source": [
    "def strip(s):\n",
    "    news=''\n",
    "    ignore=set(',.-*! \\n')\n",
    "    for letter in s:\n",
    "        if letter not in ignore:\n",
    "            news+=letter\n",
    "    return news"
   ]
  },
  {
   "cell_type": "code",
   "execution_count": 7,
   "metadata": {},
   "outputs": [
    {
     "name": "stdout",
     "output_type": "stream",
     "text": [
      "['The', 'Zen', 'of', 'Python', 'by', 'Tim', 'PetersBeautiful', 'is', 'better', 'than', 'uglyExplicit', 'is', 'better', 'than', 'implicitSimple', 'is', 'better', 'than', 'complexComplex', 'is', 'better', 'than', 'complicatedFlat', 'is', 'better', 'than', 'nestedSparse', 'is', 'better', 'than', 'denseReadability', 'countsSpecial', 'cases', \"aren't\", 'special', 'enough', 'to', 'break', 'the', 'rulesAlthough', 'practicality', 'beats', 'purityErrors', 'should', 'never', 'pass', 'silentlyUnless', 'explicitly', 'silencedIn', 'the', 'face', 'of', 'ambiguity', 'refuse', 'the', 'temptation', 'to', 'guessThere', 'should', 'be', 'one', 'and', 'preferably', 'only', 'one', 'obvious', 'way', 'to', 'do', 'itAlthough', 'that', 'way', 'may', 'not', 'be', 'obvious', 'at', 'first', 'unless', \"you're\", 'DutchNow', 'is', 'better', 'than', 'neverAlthough', 'never', 'is', 'often', 'better', 'than', 'right', 'nowIf', 'the', 'implementation', 'is', 'hard', 'to', 'explain', \"it's\", 'a', 'bad', 'ideaIf', 'the', 'implementation', 'is', 'easy', 'to', 'explain', 'it', 'may', 'be', 'a', 'good', 'ideaNamespaces', 'are', 'one', 'honking', 'great', 'idea', '', \"let's\", 'do', 'more', 'of', 'those']\n",
      "125\n"
     ]
    }
   ],
   "source": [
    "words=[strip(s) for s in words]\n",
    "print(words)\n",
    "print(len(words))"
   ]
  },
  {
   "cell_type": "code",
   "execution_count": 8,
   "metadata": {},
   "outputs": [
    {
     "name": "stdout",
     "output_type": "stream",
     "text": [
      "['the', 'zen', 'of', 'python', 'by', 'tim', 'petersbeautiful', 'is', 'better', 'than', 'uglyexplicit', 'is', 'better', 'than', 'implicitsimple', 'is', 'better', 'than', 'complexcomplex', 'is', 'better', 'than', 'complicatedflat', 'is', 'better', 'than', 'nestedsparse', 'is', 'better', 'than', 'densereadability', 'countsspecial', 'cases', \"aren't\", 'special', 'enough', 'to', 'break', 'the', 'rulesalthough', 'practicality', 'beats', 'purityerrors', 'should', 'never', 'pass', 'silentlyunless', 'explicitly', 'silencedin', 'the', 'face', 'of', 'ambiguity', 'refuse', 'the', 'temptation', 'to', 'guessthere', 'should', 'be', 'one', 'and', 'preferably', 'only', 'one', 'obvious', 'way', 'to', 'do', 'italthough', 'that', 'way', 'may', 'not', 'be', 'obvious', 'at', 'first', 'unless', \"you're\", 'dutchnow', 'is', 'better', 'than', 'neveralthough', 'never', 'is', 'often', 'better', 'than', 'right', 'nowif', 'the', 'implementation', 'is', 'hard', 'to', 'explain', \"it's\", 'a', 'bad', 'ideaif', 'the', 'implementation', 'is', 'easy', 'to', 'explain', 'it', 'may', 'be', 'a', 'good', 'ideanamespaces', 'are', 'one', 'honking', 'great', 'idea', '', \"let's\", 'do', 'more', 'of', 'those']\n"
     ]
    }
   ],
   "source": [
    "words=[s.lower() for s in words]\n",
    "print(words)"
   ]
  },
  {
   "cell_type": "code",
   "execution_count": 9,
   "metadata": {},
   "outputs": [
    {
     "name": "stdout",
     "output_type": "stream",
     "text": [
      "{'unless', '', 'complicatedflat', 'temptation', 'that', 'implicitsimple', 'more', 'be', 'at', 'rulesalthough', \"you're\", 'right', 'first', 'ideaif', 'guessthere', 'densereadability', 'nestedsparse', 'ambiguity', 'better', 'bad', 'and', 'silentlyunless', 'zen', 'cases', 'not', 'may', 'neveralthough', 'explain', 'often', 'ideanamespaces', 'idea', 'only', 'the', 'implementation', 'is', 'to', 'break', 'should', \"it's\", 'italthough', 'great', 'dutchnow', 'uglyexplicit', 'way', 'pass', 'special', 'refuse', 'than', 'never', 'a', 'are', 'of', 'face', 'hard', 'honking', 'one', 'practicality', \"let's\", 'do', 'python', 'tim', 'purityerrors', 'those', 'enough', 'complexcomplex', 'good', 'countsspecial', 'silencedin', \"aren't\", 'explicitly', 'beats', 'petersbeautiful', 'easy', 'it', 'by', 'nowif', 'obvious', 'preferably'}\n",
      "78\n"
     ]
    }
   ],
   "source": [
    "unique_words=set(words)\n",
    "print(unique_words)\n",
    "print(len(unique_words))"
   ]
  },
  {
   "cell_type": "code",
   "execution_count": 10,
   "metadata": {},
   "outputs": [],
   "source": [
    "word_frequency=dict()"
   ]
  },
  {
   "cell_type": "code",
   "execution_count": 11,
   "metadata": {},
   "outputs": [
    {
     "name": "stdout",
     "output_type": "stream",
     "text": [
      "{'unless': 1, '': 1, 'complicatedflat': 1, 'temptation': 1, 'that': 1, 'implicitsimple': 1, 'more': 1, 'be': 3, 'at': 1, 'rulesalthough': 1, \"you're\": 1, 'right': 1, 'first': 1, 'ideaif': 1, 'guessthere': 1, 'densereadability': 1, 'nestedsparse': 1, 'ambiguity': 1, 'better': 8, 'bad': 1, 'and': 1, 'silentlyunless': 1, 'zen': 1, 'cases': 1, 'not': 1, 'may': 2, 'neveralthough': 1, 'explain': 2, 'often': 1, 'ideanamespaces': 1, 'idea': 1, 'only': 1, 'the': 6, 'implementation': 2, 'is': 10, 'to': 5, 'break': 1, 'should': 2, \"it's\": 1, 'italthough': 1, 'great': 1, 'dutchnow': 1, 'uglyexplicit': 1, 'way': 2, 'pass': 1, 'special': 1, 'refuse': 1, 'than': 8, 'never': 2, 'a': 2, 'are': 1, 'of': 3, 'face': 1, 'hard': 1, 'honking': 1, 'one': 3, 'practicality': 1, \"let's\": 1, 'do': 2, 'python': 1, 'tim': 1, 'purityerrors': 1, 'those': 1, 'enough': 1, 'complexcomplex': 1, 'good': 1, 'countsspecial': 1, 'silencedin': 1, \"aren't\": 1, 'explicitly': 1, 'beats': 1, 'petersbeautiful': 1, 'easy': 1, 'it': 1, 'by': 1, 'nowif': 1, 'obvious': 2, 'preferably': 1}\n"
     ]
    }
   ],
   "source": [
    "for u in unique_words:\n",
    "    word_frequency[u]=words.count(u)\n",
    "print(word_frequency)"
   ]
  },
  {
   "cell_type": "code",
   "execution_count": 12,
   "metadata": {},
   "outputs": [
    {
     "name": "stdout",
     "output_type": "stream",
     "text": [
      "{'better': 8, 'the': 6, 'is': 10, 'than': 8}\n"
     ]
    },
    {
     "data": {
      "text/plain": [
       "'for u in word_frequency:\\n  if u.value>5:\\n    frequent_words[u.key]=u.value'"
      ]
     },
     "execution_count": 12,
     "metadata": {},
     "output_type": "execute_result"
    }
   ],
   "source": [
    "frequent_words = {f:word_frequency[f] for f in word_frequency if word_frequency[f]>5}\n",
    "print(frequent_words)\n",
    "'''for u in word_frequency:\n",
    "  if u.value>5:\n",
    "    frequent_words[u.key]=u.value'''"
   ]
  },
  {
   "cell_type": "markdown",
   "metadata": {},
   "source": [
    "Write a if-elif-else blocks to determine grade obtained by a student based on the total average obtained. Use the below criteria to determine the grade.\n",
    "\n",
    "if total average >= 90, display \"Distinct\"\n",
    "if in range [60 -90), display \"Above average\"\n",
    "if in range [40 -60), display \"Average\"\n",
    "else display \"Fail\"\n",
    "Also determine the grade of a student with average score 68.3"
   ]
  },
  {
   "cell_type": "code",
   "execution_count": 13,
   "metadata": {},
   "outputs": [
    {
     "name": "stdout",
     "output_type": "stream",
     "text": [
      "Above average\n"
     ]
    }
   ],
   "source": [
    "average=int(68.3)\n",
    "if average >= 90: \n",
    "    print(\"Distinct\")\n",
    "elif average in range(60,90): \n",
    "    print(\"Above average\")\n",
    "elif  average in range(40,60): \n",
    "    print(\"Average\")\n",
    "else :print(\"Fail\")"
   ]
  },
  {
   "cell_type": "markdown",
   "metadata": {},
   "source": [
    "'''Consider the string 's' having the value 'tata consultancy services limited'\n",
    "\n",
    "Determine the no. of vowels present in it, using for loop. Store the number in variable 'count' and print it.\n",
    "'''"
   ]
  },
  {
   "cell_type": "code",
   "execution_count": 14,
   "metadata": {},
   "outputs": [
    {
     "name": "stdout",
     "output_type": "stream",
     "text": [
      "11\n"
     ]
    }
   ],
   "source": [
    "s='tata consultancy services limited'\n",
    "count = 0\n",
    "vowels = set(\"aeiou\")\n",
    "for letter in s:\n",
    "    if letter in vowels:\n",
    "        count += 1\n",
    "print(count)"
   ]
  },
  {
   "cell_type": "markdown",
   "metadata": {},
   "source": [
    "Consider the string 's' having the value 'tata consultancy services limited'\n",
    "\n",
    "Determine the no. of vowels present in it, using While loop. Store the number in variable 'count' and print it."
   ]
  },
  {
   "cell_type": "code",
   "execution_count": 15,
   "metadata": {},
   "outputs": [
    {
     "name": "stdout",
     "output_type": "stream",
     "text": [
      "11\n"
     ]
    }
   ],
   "source": [
    "s='tata consultancy services limited'\n",
    "count = 0\n",
    "vowels = set(\"aeiou\")\n",
    "i=len(s)-1\n",
    "while i >= 0:\n",
    "    if s[i]in vowels:\n",
    "        count += 1\n",
    "    i-=1\n",
    "print(count)"
   ]
  },
  {
   "cell_type": "code",
   "execution_count": 16,
   "metadata": {},
   "outputs": [
    {
     "name": "stdout",
     "output_type": "stream",
     "text": [
      "1\n",
      "1\n",
      "2\n",
      "6\n",
      "24\n",
      "120\n",
      "720\n",
      "5040\n",
      "40320\n",
      "362880\n"
     ]
    }
   ],
   "source": [
    "from itertools import count\n",
    "def factorial():\n",
    "    res = 1\n",
    "    for x in count(1):\n",
    "        yield res\n",
    "        res = x*res\n",
    "\n",
    "fs = factorial()\n",
    "for item in range(10):\n",
    "    print(next(fs))"
   ]
  },
  {
   "cell_type": "code",
   "execution_count": 18,
   "metadata": {},
   "outputs": [
    {
     "ename": "KeyboardInterrupt",
     "evalue": "",
     "output_type": "error",
     "traceback": [
      "\u001b[1;31m---------------------------------------------------------------------------\u001b[0m",
      "\u001b[1;31mKeyboardInterrupt\u001b[0m                         Traceback (most recent call last)",
      "\u001b[1;32m<ipython-input-18-6350c3c5716f>\u001b[0m in \u001b[0;36m<module>\u001b[1;34m\u001b[0m\n\u001b[0;32m      2\u001b[0m \u001b[0mfiles\u001b[0m \u001b[1;33m=\u001b[0m \u001b[1;33m[\u001b[0m\u001b[1;33m]\u001b[0m\u001b[1;33m\u001b[0m\u001b[0m\n\u001b[0;32m      3\u001b[0m \u001b[1;31m# r=root, d=directories, f = files\u001b[0m\u001b[1;33m\u001b[0m\u001b[1;33m\u001b[0m\u001b[0m\n\u001b[1;32m----> 4\u001b[1;33m \u001b[1;32mfor\u001b[0m \u001b[0mr\u001b[0m\u001b[1;33m,\u001b[0m \u001b[0md\u001b[0m\u001b[1;33m,\u001b[0m \u001b[0mf\u001b[0m \u001b[1;32min\u001b[0m \u001b[0mos\u001b[0m\u001b[1;33m.\u001b[0m\u001b[0mwalk\u001b[0m\u001b[1;33m(\u001b[0m\u001b[1;34m'C:/'\u001b[0m\u001b[1;33m)\u001b[0m\u001b[1;33m:\u001b[0m\u001b[1;33m\u001b[0m\u001b[0m\n\u001b[0m\u001b[0;32m      5\u001b[0m     \u001b[1;32mfor\u001b[0m \u001b[0mfile\u001b[0m \u001b[1;32min\u001b[0m \u001b[0mf\u001b[0m\u001b[1;33m:\u001b[0m\u001b[1;33m\u001b[0m\u001b[0m\n\u001b[0;32m      6\u001b[0m         \u001b[1;32mif\u001b[0m \u001b[1;34m'.txt'\u001b[0m \u001b[1;32min\u001b[0m \u001b[0mfile\u001b[0m\u001b[1;33m:\u001b[0m\u001b[1;33m\u001b[0m\u001b[0m\n",
      "\u001b[1;32mc:\\users\\simra\\appdata\\local\\programs\\python\\python36\\lib\\os.py\u001b[0m in \u001b[0;36mwalk\u001b[1;34m(top, topdown, onerror, followlinks)\u001b[0m\n\u001b[0;32m    407\u001b[0m             \u001b[1;31m# above.\u001b[0m\u001b[1;33m\u001b[0m\u001b[1;33m\u001b[0m\u001b[0m\n\u001b[0;32m    408\u001b[0m             \u001b[1;32mif\u001b[0m \u001b[0mfollowlinks\u001b[0m \u001b[1;32mor\u001b[0m \u001b[1;32mnot\u001b[0m \u001b[0mislink\u001b[0m\u001b[1;33m(\u001b[0m\u001b[0mnew_path\u001b[0m\u001b[1;33m)\u001b[0m\u001b[1;33m:\u001b[0m\u001b[1;33m\u001b[0m\u001b[0m\n\u001b[1;32m--> 409\u001b[1;33m                 \u001b[1;32myield\u001b[0m \u001b[1;32mfrom\u001b[0m \u001b[0mwalk\u001b[0m\u001b[1;33m(\u001b[0m\u001b[0mnew_path\u001b[0m\u001b[1;33m,\u001b[0m \u001b[0mtopdown\u001b[0m\u001b[1;33m,\u001b[0m \u001b[0monerror\u001b[0m\u001b[1;33m,\u001b[0m \u001b[0mfollowlinks\u001b[0m\u001b[1;33m)\u001b[0m\u001b[1;33m\u001b[0m\u001b[0m\n\u001b[0m\u001b[0;32m    410\u001b[0m     \u001b[1;32melse\u001b[0m\u001b[1;33m:\u001b[0m\u001b[1;33m\u001b[0m\u001b[0m\n\u001b[0;32m    411\u001b[0m         \u001b[1;31m# Recurse into sub-directories\u001b[0m\u001b[1;33m\u001b[0m\u001b[1;33m\u001b[0m\u001b[0m\n",
      "\u001b[1;32mc:\\users\\simra\\appdata\\local\\programs\\python\\python36\\lib\\os.py\u001b[0m in \u001b[0;36mwalk\u001b[1;34m(top, topdown, onerror, followlinks)\u001b[0m\n\u001b[0;32m    407\u001b[0m             \u001b[1;31m# above.\u001b[0m\u001b[1;33m\u001b[0m\u001b[1;33m\u001b[0m\u001b[0m\n\u001b[0;32m    408\u001b[0m             \u001b[1;32mif\u001b[0m \u001b[0mfollowlinks\u001b[0m \u001b[1;32mor\u001b[0m \u001b[1;32mnot\u001b[0m \u001b[0mislink\u001b[0m\u001b[1;33m(\u001b[0m\u001b[0mnew_path\u001b[0m\u001b[1;33m)\u001b[0m\u001b[1;33m:\u001b[0m\u001b[1;33m\u001b[0m\u001b[0m\n\u001b[1;32m--> 409\u001b[1;33m                 \u001b[1;32myield\u001b[0m \u001b[1;32mfrom\u001b[0m \u001b[0mwalk\u001b[0m\u001b[1;33m(\u001b[0m\u001b[0mnew_path\u001b[0m\u001b[1;33m,\u001b[0m \u001b[0mtopdown\u001b[0m\u001b[1;33m,\u001b[0m \u001b[0monerror\u001b[0m\u001b[1;33m,\u001b[0m \u001b[0mfollowlinks\u001b[0m\u001b[1;33m)\u001b[0m\u001b[1;33m\u001b[0m\u001b[0m\n\u001b[0m\u001b[0;32m    410\u001b[0m     \u001b[1;32melse\u001b[0m\u001b[1;33m:\u001b[0m\u001b[1;33m\u001b[0m\u001b[0m\n\u001b[0;32m    411\u001b[0m         \u001b[1;31m# Recurse into sub-directories\u001b[0m\u001b[1;33m\u001b[0m\u001b[1;33m\u001b[0m\u001b[0m\n",
      "\u001b[1;32mc:\\users\\simra\\appdata\\local\\programs\\python\\python36\\lib\\os.py\u001b[0m in \u001b[0;36mwalk\u001b[1;34m(top, topdown, onerror, followlinks)\u001b[0m\n\u001b[0;32m    407\u001b[0m             \u001b[1;31m# above.\u001b[0m\u001b[1;33m\u001b[0m\u001b[1;33m\u001b[0m\u001b[0m\n\u001b[0;32m    408\u001b[0m             \u001b[1;32mif\u001b[0m \u001b[0mfollowlinks\u001b[0m \u001b[1;32mor\u001b[0m \u001b[1;32mnot\u001b[0m \u001b[0mislink\u001b[0m\u001b[1;33m(\u001b[0m\u001b[0mnew_path\u001b[0m\u001b[1;33m)\u001b[0m\u001b[1;33m:\u001b[0m\u001b[1;33m\u001b[0m\u001b[0m\n\u001b[1;32m--> 409\u001b[1;33m                 \u001b[1;32myield\u001b[0m \u001b[1;32mfrom\u001b[0m \u001b[0mwalk\u001b[0m\u001b[1;33m(\u001b[0m\u001b[0mnew_path\u001b[0m\u001b[1;33m,\u001b[0m \u001b[0mtopdown\u001b[0m\u001b[1;33m,\u001b[0m \u001b[0monerror\u001b[0m\u001b[1;33m,\u001b[0m \u001b[0mfollowlinks\u001b[0m\u001b[1;33m)\u001b[0m\u001b[1;33m\u001b[0m\u001b[0m\n\u001b[0m\u001b[0;32m    410\u001b[0m     \u001b[1;32melse\u001b[0m\u001b[1;33m:\u001b[0m\u001b[1;33m\u001b[0m\u001b[0m\n\u001b[0;32m    411\u001b[0m         \u001b[1;31m# Recurse into sub-directories\u001b[0m\u001b[1;33m\u001b[0m\u001b[1;33m\u001b[0m\u001b[0m\n",
      "\u001b[1;32mc:\\users\\simra\\appdata\\local\\programs\\python\\python36\\lib\\os.py\u001b[0m in \u001b[0;36mwalk\u001b[1;34m(top, topdown, onerror, followlinks)\u001b[0m\n\u001b[0;32m    407\u001b[0m             \u001b[1;31m# above.\u001b[0m\u001b[1;33m\u001b[0m\u001b[1;33m\u001b[0m\u001b[0m\n\u001b[0;32m    408\u001b[0m             \u001b[1;32mif\u001b[0m \u001b[0mfollowlinks\u001b[0m \u001b[1;32mor\u001b[0m \u001b[1;32mnot\u001b[0m \u001b[0mislink\u001b[0m\u001b[1;33m(\u001b[0m\u001b[0mnew_path\u001b[0m\u001b[1;33m)\u001b[0m\u001b[1;33m:\u001b[0m\u001b[1;33m\u001b[0m\u001b[0m\n\u001b[1;32m--> 409\u001b[1;33m                 \u001b[1;32myield\u001b[0m \u001b[1;32mfrom\u001b[0m \u001b[0mwalk\u001b[0m\u001b[1;33m(\u001b[0m\u001b[0mnew_path\u001b[0m\u001b[1;33m,\u001b[0m \u001b[0mtopdown\u001b[0m\u001b[1;33m,\u001b[0m \u001b[0monerror\u001b[0m\u001b[1;33m,\u001b[0m \u001b[0mfollowlinks\u001b[0m\u001b[1;33m)\u001b[0m\u001b[1;33m\u001b[0m\u001b[0m\n\u001b[0m\u001b[0;32m    410\u001b[0m     \u001b[1;32melse\u001b[0m\u001b[1;33m:\u001b[0m\u001b[1;33m\u001b[0m\u001b[0m\n\u001b[0;32m    411\u001b[0m         \u001b[1;31m# Recurse into sub-directories\u001b[0m\u001b[1;33m\u001b[0m\u001b[1;33m\u001b[0m\u001b[0m\n",
      "\u001b[1;32mc:\\users\\simra\\appdata\\local\\programs\\python\\python36\\lib\\os.py\u001b[0m in \u001b[0;36mwalk\u001b[1;34m(top, topdown, onerror, followlinks)\u001b[0m\n\u001b[0;32m    407\u001b[0m             \u001b[1;31m# above.\u001b[0m\u001b[1;33m\u001b[0m\u001b[1;33m\u001b[0m\u001b[0m\n\u001b[0;32m    408\u001b[0m             \u001b[1;32mif\u001b[0m \u001b[0mfollowlinks\u001b[0m \u001b[1;32mor\u001b[0m \u001b[1;32mnot\u001b[0m \u001b[0mislink\u001b[0m\u001b[1;33m(\u001b[0m\u001b[0mnew_path\u001b[0m\u001b[1;33m)\u001b[0m\u001b[1;33m:\u001b[0m\u001b[1;33m\u001b[0m\u001b[0m\n\u001b[1;32m--> 409\u001b[1;33m                 \u001b[1;32myield\u001b[0m \u001b[1;32mfrom\u001b[0m \u001b[0mwalk\u001b[0m\u001b[1;33m(\u001b[0m\u001b[0mnew_path\u001b[0m\u001b[1;33m,\u001b[0m \u001b[0mtopdown\u001b[0m\u001b[1;33m,\u001b[0m \u001b[0monerror\u001b[0m\u001b[1;33m,\u001b[0m \u001b[0mfollowlinks\u001b[0m\u001b[1;33m)\u001b[0m\u001b[1;33m\u001b[0m\u001b[0m\n\u001b[0m\u001b[0;32m    410\u001b[0m     \u001b[1;32melse\u001b[0m\u001b[1;33m:\u001b[0m\u001b[1;33m\u001b[0m\u001b[0m\n\u001b[0;32m    411\u001b[0m         \u001b[1;31m# Recurse into sub-directories\u001b[0m\u001b[1;33m\u001b[0m\u001b[1;33m\u001b[0m\u001b[0m\n",
      "\u001b[1;32mc:\\users\\simra\\appdata\\local\\programs\\python\\python36\\lib\\os.py\u001b[0m in \u001b[0;36mwalk\u001b[1;34m(top, topdown, onerror, followlinks)\u001b[0m\n\u001b[0;32m    407\u001b[0m             \u001b[1;31m# above.\u001b[0m\u001b[1;33m\u001b[0m\u001b[1;33m\u001b[0m\u001b[0m\n\u001b[0;32m    408\u001b[0m             \u001b[1;32mif\u001b[0m \u001b[0mfollowlinks\u001b[0m \u001b[1;32mor\u001b[0m \u001b[1;32mnot\u001b[0m \u001b[0mislink\u001b[0m\u001b[1;33m(\u001b[0m\u001b[0mnew_path\u001b[0m\u001b[1;33m)\u001b[0m\u001b[1;33m:\u001b[0m\u001b[1;33m\u001b[0m\u001b[0m\n\u001b[1;32m--> 409\u001b[1;33m                 \u001b[1;32myield\u001b[0m \u001b[1;32mfrom\u001b[0m \u001b[0mwalk\u001b[0m\u001b[1;33m(\u001b[0m\u001b[0mnew_path\u001b[0m\u001b[1;33m,\u001b[0m \u001b[0mtopdown\u001b[0m\u001b[1;33m,\u001b[0m \u001b[0monerror\u001b[0m\u001b[1;33m,\u001b[0m \u001b[0mfollowlinks\u001b[0m\u001b[1;33m)\u001b[0m\u001b[1;33m\u001b[0m\u001b[0m\n\u001b[0m\u001b[0;32m    410\u001b[0m     \u001b[1;32melse\u001b[0m\u001b[1;33m:\u001b[0m\u001b[1;33m\u001b[0m\u001b[0m\n\u001b[0;32m    411\u001b[0m         \u001b[1;31m# Recurse into sub-directories\u001b[0m\u001b[1;33m\u001b[0m\u001b[1;33m\u001b[0m\u001b[0m\n",
      "\u001b[1;32mc:\\users\\simra\\appdata\\local\\programs\\python\\python36\\lib\\os.py\u001b[0m in \u001b[0;36mwalk\u001b[1;34m(top, topdown, onerror, followlinks)\u001b[0m\n\u001b[0;32m    406\u001b[0m             \u001b[1;31m# the caller can replace the directory entry during the \"yield\"\u001b[0m\u001b[1;33m\u001b[0m\u001b[1;33m\u001b[0m\u001b[0m\n\u001b[0;32m    407\u001b[0m             \u001b[1;31m# above.\u001b[0m\u001b[1;33m\u001b[0m\u001b[1;33m\u001b[0m\u001b[0m\n\u001b[1;32m--> 408\u001b[1;33m             \u001b[1;32mif\u001b[0m \u001b[0mfollowlinks\u001b[0m \u001b[1;32mor\u001b[0m \u001b[1;32mnot\u001b[0m \u001b[0mislink\u001b[0m\u001b[1;33m(\u001b[0m\u001b[0mnew_path\u001b[0m\u001b[1;33m)\u001b[0m\u001b[1;33m:\u001b[0m\u001b[1;33m\u001b[0m\u001b[0m\n\u001b[0m\u001b[0;32m    409\u001b[0m                 \u001b[1;32myield\u001b[0m \u001b[1;32mfrom\u001b[0m \u001b[0mwalk\u001b[0m\u001b[1;33m(\u001b[0m\u001b[0mnew_path\u001b[0m\u001b[1;33m,\u001b[0m \u001b[0mtopdown\u001b[0m\u001b[1;33m,\u001b[0m \u001b[0monerror\u001b[0m\u001b[1;33m,\u001b[0m \u001b[0mfollowlinks\u001b[0m\u001b[1;33m)\u001b[0m\u001b[1;33m\u001b[0m\u001b[0m\n\u001b[0;32m    410\u001b[0m     \u001b[1;32melse\u001b[0m\u001b[1;33m:\u001b[0m\u001b[1;33m\u001b[0m\u001b[0m\n",
      "\u001b[1;32mc:\\users\\simra\\appdata\\local\\programs\\python\\python36\\lib\\ntpath.py\u001b[0m in \u001b[0;36mislink\u001b[1;34m(path)\u001b[0m\n\u001b[0;32m    250\u001b[0m     \"\"\"\n\u001b[0;32m    251\u001b[0m     \u001b[1;32mtry\u001b[0m\u001b[1;33m:\u001b[0m\u001b[1;33m\u001b[0m\u001b[0m\n\u001b[1;32m--> 252\u001b[1;33m         \u001b[0mst\u001b[0m \u001b[1;33m=\u001b[0m \u001b[0mos\u001b[0m\u001b[1;33m.\u001b[0m\u001b[0mlstat\u001b[0m\u001b[1;33m(\u001b[0m\u001b[0mpath\u001b[0m\u001b[1;33m)\u001b[0m\u001b[1;33m\u001b[0m\u001b[0m\n\u001b[0m\u001b[0;32m    253\u001b[0m     \u001b[1;32mexcept\u001b[0m \u001b[1;33m(\u001b[0m\u001b[0mOSError\u001b[0m\u001b[1;33m,\u001b[0m \u001b[0mAttributeError\u001b[0m\u001b[1;33m)\u001b[0m\u001b[1;33m:\u001b[0m\u001b[1;33m\u001b[0m\u001b[0m\n\u001b[0;32m    254\u001b[0m         \u001b[1;32mreturn\u001b[0m \u001b[1;32mFalse\u001b[0m\u001b[1;33m\u001b[0m\u001b[0m\n",
      "\u001b[1;31mKeyboardInterrupt\u001b[0m: "
     ]
    }
   ],
   "source": [
    "import os\n",
    "files = []\n",
    "# r=root, d=directories, f = files\n",
    "for r, d, f in os.walk('C:/'):\n",
    "    for file in f:\n",
    "        if '.txt' in file:\n",
    "            files.append(os.path.join(r, file))\n",
    "\n",
    "for f in files:\n",
    "    print(f)"
   ]
  },
  {
   "cell_type": "code",
   "execution_count": null,
   "metadata": {},
   "outputs": [],
   "source": [
    "#Find Month With 5 or more than 5 sunday ??\n",
    "def find_five_sunday_months(year):\n",
    "    calendar.setfirstweekday(calendar.SUNDAY)\n",
    "    five_sunday_months = []\n",
    "    for month in range(1, 13):\n",
    "        calendar_month = calendar.monthcalendar(year, month)\n",
    "        if len(calendar_month) == 6 or (len(calendar_month) == 5 and calendar_month[0][0] == 1):\n",
    "            five_sunday_months.append(calendar.month_abbr[month])\n",
    "\n",
    "    return five_sunday_months\n",
    "\n",
    "print (find_five_sunday_months(2018))\n"
   ]
  },
  {
   "cell_type": "code",
   "execution_count": null,
   "metadata": {},
   "outputs": [],
   "source": [
    "import timeit\n",
    "def f1():\n",
    "    f= [i**2 for i in range(1,21)]\n",
    "    return f\n",
    "def f2():\n",
    "    g = (x**2 for x in range(1,21))\n",
    "    return g\n",
    "  \n",
    "s1 = timeit.timeit(stmt=\"f1()\",setup=\"from __main__ import f1\",number=100000)\n",
    "print(s1)\n",
    "s2 = timeit.timeit(stmt=\"f2()\",setup=\"from __main__ import f2\",number=100000)\n",
    "print(s2)"
   ]
  },
  {
   "cell_type": "code",
   "execution_count": null,
   "metadata": {},
   "outputs": [],
   "source": []
  }
 ],
 "metadata": {
  "kernelspec": {
   "display_name": "Python 3",
   "language": "python",
   "name": "python3"
  },
  "language_info": {
   "codemirror_mode": {
    "name": "ipython",
    "version": 3
   },
   "file_extension": ".py",
   "mimetype": "text/x-python",
   "name": "python",
   "nbconvert_exporter": "python",
   "pygments_lexer": "ipython3",
   "version": "3.6.0"
  }
 },
 "nbformat": 4,
 "nbformat_minor": 2
}
